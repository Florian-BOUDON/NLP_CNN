{
 "cells": [
  {
   "cell_type": "markdown",
   "source": [
    "# Traitement des descriptions"
   ],
   "metadata": {
    "collapsed": false
   }
  },
  {
   "cell_type": "markdown",
   "source": [],
   "metadata": {
    "collapsed": false
   }
  },
  {
   "cell_type": "code",
   "execution_count": 38,
   "outputs": [],
   "source": [
    "import pandas as pd\n",
    "import numpy as np\n",
    "import seaborn as sns\n",
    "import nltk\n",
    "import time"
   ],
   "metadata": {
    "collapsed": false
   }
  },
  {
   "cell_type": "code",
   "execution_count": 40,
   "outputs": [
    {
     "name": "stdout",
     "output_type": "stream",
     "text": [
      "Collecting git+https://github.com/ClaudeCoulombe/FrenchLefffLemmatizer.git"
     ]
    },
    {
     "name": "stderr",
     "output_type": "stream",
     "text": [
      "  Running command git clone --filter=blob:none --quiet https://github.com/ClaudeCoulombe/FrenchLefffLemmatizer.git 'C:\\Users\\fbbou\\AppData\\Local\\Temp\\pip-req-build-_8e0xhu9'\n",
      "\n",
      "[notice] A new release of pip available: 22.3.1 -> 23.0.1\n",
      "[notice] To update, run: python.exe -m pip install --upgrade pip\n"
     ]
    },
    {
     "name": "stdout",
     "output_type": "stream",
     "text": [
      "\n",
      "  Cloning https://github.com/ClaudeCoulombe/FrenchLefffLemmatizer.git to c:\\users\\fbbou\\appdata\\local\\temp\\pip-req-build-_8e0xhu9\n",
      "  Resolved https://github.com/ClaudeCoulombe/FrenchLefffLemmatizer.git to commit bc0ebd0135a6cc78f48ddf184069b4c0b9c017d8\n",
      "  Preparing metadata (setup.py): started\n",
      "  Preparing metadata (setup.py): finished with status 'done'\n",
      "Building wheels for collected packages: FrenchLefffLemmatizer\n",
      "  Building wheel for FrenchLefffLemmatizer (setup.py): started\n",
      "  Building wheel for FrenchLefffLemmatizer (setup.py): finished with status 'done'\n",
      "  Created wheel for FrenchLefffLemmatizer: filename=FrenchLefffLemmatizer-0.3-py3-none-any.whl size=3550631 sha256=e5c7baee20f6e19579c10a4c69b2641491355c36ea8374d36e65a329d5ee5373\n",
      "  Stored in directory: C:\\Users\\fbbou\\AppData\\Local\\Temp\\pip-ephem-wheel-cache-qdmubavb\\wheels\\99\\54\\81\\553bffdc8e0781c925f9a26606894935adb29b56175a9a358b\n",
      "Successfully built FrenchLefffLemmatizer\n",
      "Installing collected packages: FrenchLefffLemmatizer\n",
      "Successfully installed FrenchLefffLemmatizer-0.3\n"
     ]
    }
   ],
   "source": [
    "# Installation de la librairie frenchleflematizer\n",
    "!pip install git+https://github.com/ClaudeCoulombe/FrenchLefffLemmatizer.git"
   ],
   "metadata": {
    "collapsed": false
   }
  },
  {
   "cell_type": "code",
   "execution_count": 41,
   "outputs": [],
   "source": [
    "from french_lefff_lemmatizer.french_lefff_lemmatizer import FrenchLefffLemmatizer"
   ],
   "metadata": {
    "collapsed": false
   }
  },
  {
   "cell_type": "code",
   "execution_count": 19,
   "outputs": [
    {
     "data": {
      "text/plain": "                               uniq_id            crawl_timestamp  \\\n0     55b85ea15a1536d46b7190ad6fff8ce7  2016-04-30 03:22:56 +0000   \n1     7b72c92c2f6c40268628ec5f14c6d590  2016-04-30 03:22:56 +0000   \n2     64d5d4a258243731dc7bbb1eef49ad74  2016-04-30 03:22:56 +0000   \n3     d4684dcdc759dd9cdf41504698d737d8  2016-06-20 08:49:52 +0000   \n4     6325b6870c54cd47be6ebfbffa620ec7  2016-06-20 08:49:52 +0000   \n...                                ...                        ...   \n1045  958f54f4c46b53c8a0a9b8167d9140bc  2015-12-01 10:15:43 +0000   \n1046  fd6cbcc22efb6b761bd564c28928483c  2015-12-01 10:15:43 +0000   \n1047  5912e037d12774bb73a2048f35a00009  2015-12-01 10:15:43 +0000   \n1048  c3edc504d1b4f0ba6224fa53a43a7ad6  2015-12-01 10:15:43 +0000   \n1049  f2f027ad6a6df617c9f125173da71e44  2015-12-01 10:15:43 +0000   \n\n                                            product_url  \\\n0     http://www.flipkart.com/elegance-polyester-mul...   \n1     http://www.flipkart.com/sathiyas-cotton-bath-t...   \n2     http://www.flipkart.com/eurospa-cotton-terry-f...   \n3     http://www.flipkart.com/santosh-royal-fashion-...   \n4     http://www.flipkart.com/jaipur-print-cotton-fl...   \n...                                                 ...   \n1045  http://www.flipkart.com/oren-empower-extra-lar...   \n1046  http://www.flipkart.com/wallmantra-large-vinyl...   \n1047  http://www.flipkart.com/uberlyfe-extra-large-p...   \n1048  http://www.flipkart.com/wallmantra-medium-viny...   \n1049  http://www.flipkart.com/uberlyfe-large-vinyl-s...   \n\n                                           product_name  \\\n0     Elegance Polyester Multicolor Abstract Eyelet ...   \n1                            Sathiyas Cotton Bath Towel   \n2                   Eurospa Cotton Terry Face Towel Set   \n3     SANTOSH ROYAL FASHION Cotton Printed King size...   \n4     Jaipur Print Cotton Floral King sized Double B...   \n...                                                 ...   \n1045     Oren Empower Extra Large Self Adhesive Sticker   \n1046             Wallmantra Large Vinyl Sticker Sticker   \n1047  Uberlyfe Extra Large Pigmented Polyvinyl Films...   \n1048            Wallmantra Medium Vinyl Sticker Sticker   \n1049                       Uberlyfe Large Vinyl Sticker   \n\n                                  product_category_tree               pid  \\\n0     [\"Home Furnishing >> Curtains & Accessories >>...  CRNEG7BKMFFYHQ8Z   \n1     [\"Baby Care >> Baby Bath & Skin >> Baby Bath T...  BTWEGFZHGBXPHZUH   \n2     [\"Baby Care >> Baby Bath & Skin >> Baby Bath T...  BTWEG6SHXTDB2A2Y   \n3     [\"Home Furnishing >> Bed Linen >> Bedsheets >>...  BDSEJT9UQWHDUBH4   \n4     [\"Home Furnishing >> Bed Linen >> Bedsheets >>...  BDSEJTHNGWVGWWQU   \n...                                                 ...               ...   \n1045  [\"Baby Care >> Baby & Kids Gifts >> Stickers >...  STIE88ZGTX65GH4V   \n1046  [\"Baby Care >> Baby & Kids Gifts >> Stickers >...  STIEC889ZD5GDCVQ   \n1047  [\"Baby Care >> Baby & Kids Gifts >> Stickers >...  STIE5UVGW2JWVWCT   \n1048  [\"Baby Care >> Baby & Kids Gifts >> Stickers >...  STIEC889ZGFD3RCE   \n1049  [\"Baby Care >> Baby & Kids Gifts >> Stickers >...  STIE2ZEPACRQJKH7   \n\n      retail_price  discounted_price                                 image  \\\n0           1899.0             899.0  55b85ea15a1536d46b7190ad6fff8ce7.jpg   \n1            600.0             449.0  7b72c92c2f6c40268628ec5f14c6d590.jpg   \n2              NaN               NaN  64d5d4a258243731dc7bbb1eef49ad74.jpg   \n3           2699.0            1299.0  d4684dcdc759dd9cdf41504698d737d8.jpg   \n4           2599.0             698.0  6325b6870c54cd47be6ebfbffa620ec7.jpg   \n...            ...               ...                                   ...   \n1045        1399.0             999.0  958f54f4c46b53c8a0a9b8167d9140bc.jpg   \n1046        4930.0            1896.0  fd6cbcc22efb6b761bd564c28928483c.jpg   \n1047        4500.0            1449.0  5912e037d12774bb73a2048f35a00009.jpg   \n1048        3465.0            1333.0  c3edc504d1b4f0ba6224fa53a43a7ad6.jpg   \n1049        1190.0             595.0  f2f027ad6a6df617c9f125173da71e44.jpg   \n\n      is_FK_Advantage_product  \\\n0                       False   \n1                       False   \n2                       False   \n3                       False   \n4                       False   \n...                       ...   \n1045                    False   \n1046                    False   \n1047                    False   \n1048                    False   \n1049                    False   \n\n                                            description       product_rating  \\\n0     Key Features of Elegance Polyester Multicolor ...  No rating available   \n1     Specifications of Sathiyas Cotton Bath Towel (...  No rating available   \n2     Key Features of Eurospa Cotton Terry Face Towe...  No rating available   \n3     Key Features of SANTOSH ROYAL FASHION Cotton P...  No rating available   \n4     Key Features of Jaipur Print Cotton Floral Kin...  No rating available   \n...                                                 ...                  ...   \n1045  Oren Empower Extra Large Self Adhesive Sticker...  No rating available   \n1046  Wallmantra Large Vinyl Sticker Sticker (Pack o...  No rating available   \n1047  Buy Uberlyfe Extra Large Pigmented Polyvinyl F...  No rating available   \n1048  Buy Wallmantra Medium Vinyl Sticker Sticker fo...  No rating available   \n1049  Buy Uberlyfe Large Vinyl Sticker for Rs.595 on...                    4   \n\n           overall_rating                  brand  \\\n0     No rating available               Elegance   \n1     No rating available               Sathiyas   \n2     No rating available                Eurospa   \n3     No rating available  SANTOSH ROYAL FASHION   \n4     No rating available           Jaipur Print   \n...                   ...                    ...   \n1045  No rating available           Oren Empower   \n1046  No rating available             Wallmantra   \n1047  No rating available               Uberlyfe   \n1048  No rating available             Wallmantra   \n1049                    4               Uberlyfe   \n\n                                 product_specifications  \n0     {\"product_specification\"=>[{\"key\"=>\"Brand\", \"v...  \n1     {\"product_specification\"=>[{\"key\"=>\"Machine Wa...  \n2     {\"product_specification\"=>[{\"key\"=>\"Material\",...  \n3     {\"product_specification\"=>[{\"key\"=>\"Brand\", \"v...  \n4     {\"product_specification\"=>[{\"key\"=>\"Machine Wa...  \n...                                                 ...  \n1045  {\"product_specification\"=>[{\"key\"=>\"Number of ...  \n1046  {\"product_specification\"=>[{\"key\"=>\"Number of ...  \n1047  {\"product_specification\"=>[{\"key\"=>\"Number of ...  \n1048  {\"product_specification\"=>[{\"key\"=>\"Number of ...  \n1049  {\"product_specification\"=>[{\"key\"=>\"Sales Pack...  \n\n[1050 rows x 15 columns]",
      "text/html": "<div>\n<style scoped>\n    .dataframe tbody tr th:only-of-type {\n        vertical-align: middle;\n    }\n\n    .dataframe tbody tr th {\n        vertical-align: top;\n    }\n\n    .dataframe thead th {\n        text-align: right;\n    }\n</style>\n<table border=\"1\" class=\"dataframe\">\n  <thead>\n    <tr style=\"text-align: right;\">\n      <th></th>\n      <th>uniq_id</th>\n      <th>crawl_timestamp</th>\n      <th>product_url</th>\n      <th>product_name</th>\n      <th>product_category_tree</th>\n      <th>pid</th>\n      <th>retail_price</th>\n      <th>discounted_price</th>\n      <th>image</th>\n      <th>is_FK_Advantage_product</th>\n      <th>description</th>\n      <th>product_rating</th>\n      <th>overall_rating</th>\n      <th>brand</th>\n      <th>product_specifications</th>\n    </tr>\n  </thead>\n  <tbody>\n    <tr>\n      <th>0</th>\n      <td>55b85ea15a1536d46b7190ad6fff8ce7</td>\n      <td>2016-04-30 03:22:56 +0000</td>\n      <td>http://www.flipkart.com/elegance-polyester-mul...</td>\n      <td>Elegance Polyester Multicolor Abstract Eyelet ...</td>\n      <td>[\"Home Furnishing &gt;&gt; Curtains &amp; Accessories &gt;&gt;...</td>\n      <td>CRNEG7BKMFFYHQ8Z</td>\n      <td>1899.0</td>\n      <td>899.0</td>\n      <td>55b85ea15a1536d46b7190ad6fff8ce7.jpg</td>\n      <td>False</td>\n      <td>Key Features of Elegance Polyester Multicolor ...</td>\n      <td>No rating available</td>\n      <td>No rating available</td>\n      <td>Elegance</td>\n      <td>{\"product_specification\"=&gt;[{\"key\"=&gt;\"Brand\", \"v...</td>\n    </tr>\n    <tr>\n      <th>1</th>\n      <td>7b72c92c2f6c40268628ec5f14c6d590</td>\n      <td>2016-04-30 03:22:56 +0000</td>\n      <td>http://www.flipkart.com/sathiyas-cotton-bath-t...</td>\n      <td>Sathiyas Cotton Bath Towel</td>\n      <td>[\"Baby Care &gt;&gt; Baby Bath &amp; Skin &gt;&gt; Baby Bath T...</td>\n      <td>BTWEGFZHGBXPHZUH</td>\n      <td>600.0</td>\n      <td>449.0</td>\n      <td>7b72c92c2f6c40268628ec5f14c6d590.jpg</td>\n      <td>False</td>\n      <td>Specifications of Sathiyas Cotton Bath Towel (...</td>\n      <td>No rating available</td>\n      <td>No rating available</td>\n      <td>Sathiyas</td>\n      <td>{\"product_specification\"=&gt;[{\"key\"=&gt;\"Machine Wa...</td>\n    </tr>\n    <tr>\n      <th>2</th>\n      <td>64d5d4a258243731dc7bbb1eef49ad74</td>\n      <td>2016-04-30 03:22:56 +0000</td>\n      <td>http://www.flipkart.com/eurospa-cotton-terry-f...</td>\n      <td>Eurospa Cotton Terry Face Towel Set</td>\n      <td>[\"Baby Care &gt;&gt; Baby Bath &amp; Skin &gt;&gt; Baby Bath T...</td>\n      <td>BTWEG6SHXTDB2A2Y</td>\n      <td>NaN</td>\n      <td>NaN</td>\n      <td>64d5d4a258243731dc7bbb1eef49ad74.jpg</td>\n      <td>False</td>\n      <td>Key Features of Eurospa Cotton Terry Face Towe...</td>\n      <td>No rating available</td>\n      <td>No rating available</td>\n      <td>Eurospa</td>\n      <td>{\"product_specification\"=&gt;[{\"key\"=&gt;\"Material\",...</td>\n    </tr>\n    <tr>\n      <th>3</th>\n      <td>d4684dcdc759dd9cdf41504698d737d8</td>\n      <td>2016-06-20 08:49:52 +0000</td>\n      <td>http://www.flipkart.com/santosh-royal-fashion-...</td>\n      <td>SANTOSH ROYAL FASHION Cotton Printed King size...</td>\n      <td>[\"Home Furnishing &gt;&gt; Bed Linen &gt;&gt; Bedsheets &gt;&gt;...</td>\n      <td>BDSEJT9UQWHDUBH4</td>\n      <td>2699.0</td>\n      <td>1299.0</td>\n      <td>d4684dcdc759dd9cdf41504698d737d8.jpg</td>\n      <td>False</td>\n      <td>Key Features of SANTOSH ROYAL FASHION Cotton P...</td>\n      <td>No rating available</td>\n      <td>No rating available</td>\n      <td>SANTOSH ROYAL FASHION</td>\n      <td>{\"product_specification\"=&gt;[{\"key\"=&gt;\"Brand\", \"v...</td>\n    </tr>\n    <tr>\n      <th>4</th>\n      <td>6325b6870c54cd47be6ebfbffa620ec7</td>\n      <td>2016-06-20 08:49:52 +0000</td>\n      <td>http://www.flipkart.com/jaipur-print-cotton-fl...</td>\n      <td>Jaipur Print Cotton Floral King sized Double B...</td>\n      <td>[\"Home Furnishing &gt;&gt; Bed Linen &gt;&gt; Bedsheets &gt;&gt;...</td>\n      <td>BDSEJTHNGWVGWWQU</td>\n      <td>2599.0</td>\n      <td>698.0</td>\n      <td>6325b6870c54cd47be6ebfbffa620ec7.jpg</td>\n      <td>False</td>\n      <td>Key Features of Jaipur Print Cotton Floral Kin...</td>\n      <td>No rating available</td>\n      <td>No rating available</td>\n      <td>Jaipur Print</td>\n      <td>{\"product_specification\"=&gt;[{\"key\"=&gt;\"Machine Wa...</td>\n    </tr>\n    <tr>\n      <th>...</th>\n      <td>...</td>\n      <td>...</td>\n      <td>...</td>\n      <td>...</td>\n      <td>...</td>\n      <td>...</td>\n      <td>...</td>\n      <td>...</td>\n      <td>...</td>\n      <td>...</td>\n      <td>...</td>\n      <td>...</td>\n      <td>...</td>\n      <td>...</td>\n      <td>...</td>\n    </tr>\n    <tr>\n      <th>1045</th>\n      <td>958f54f4c46b53c8a0a9b8167d9140bc</td>\n      <td>2015-12-01 10:15:43 +0000</td>\n      <td>http://www.flipkart.com/oren-empower-extra-lar...</td>\n      <td>Oren Empower Extra Large Self Adhesive Sticker</td>\n      <td>[\"Baby Care &gt;&gt; Baby &amp; Kids Gifts &gt;&gt; Stickers &gt;...</td>\n      <td>STIE88ZGTX65GH4V</td>\n      <td>1399.0</td>\n      <td>999.0</td>\n      <td>958f54f4c46b53c8a0a9b8167d9140bc.jpg</td>\n      <td>False</td>\n      <td>Oren Empower Extra Large Self Adhesive Sticker...</td>\n      <td>No rating available</td>\n      <td>No rating available</td>\n      <td>Oren Empower</td>\n      <td>{\"product_specification\"=&gt;[{\"key\"=&gt;\"Number of ...</td>\n    </tr>\n    <tr>\n      <th>1046</th>\n      <td>fd6cbcc22efb6b761bd564c28928483c</td>\n      <td>2015-12-01 10:15:43 +0000</td>\n      <td>http://www.flipkart.com/wallmantra-large-vinyl...</td>\n      <td>Wallmantra Large Vinyl Sticker Sticker</td>\n      <td>[\"Baby Care &gt;&gt; Baby &amp; Kids Gifts &gt;&gt; Stickers &gt;...</td>\n      <td>STIEC889ZD5GDCVQ</td>\n      <td>4930.0</td>\n      <td>1896.0</td>\n      <td>fd6cbcc22efb6b761bd564c28928483c.jpg</td>\n      <td>False</td>\n      <td>Wallmantra Large Vinyl Sticker Sticker (Pack o...</td>\n      <td>No rating available</td>\n      <td>No rating available</td>\n      <td>Wallmantra</td>\n      <td>{\"product_specification\"=&gt;[{\"key\"=&gt;\"Number of ...</td>\n    </tr>\n    <tr>\n      <th>1047</th>\n      <td>5912e037d12774bb73a2048f35a00009</td>\n      <td>2015-12-01 10:15:43 +0000</td>\n      <td>http://www.flipkart.com/uberlyfe-extra-large-p...</td>\n      <td>Uberlyfe Extra Large Pigmented Polyvinyl Films...</td>\n      <td>[\"Baby Care &gt;&gt; Baby &amp; Kids Gifts &gt;&gt; Stickers &gt;...</td>\n      <td>STIE5UVGW2JWVWCT</td>\n      <td>4500.0</td>\n      <td>1449.0</td>\n      <td>5912e037d12774bb73a2048f35a00009.jpg</td>\n      <td>False</td>\n      <td>Buy Uberlyfe Extra Large Pigmented Polyvinyl F...</td>\n      <td>No rating available</td>\n      <td>No rating available</td>\n      <td>Uberlyfe</td>\n      <td>{\"product_specification\"=&gt;[{\"key\"=&gt;\"Number of ...</td>\n    </tr>\n    <tr>\n      <th>1048</th>\n      <td>c3edc504d1b4f0ba6224fa53a43a7ad6</td>\n      <td>2015-12-01 10:15:43 +0000</td>\n      <td>http://www.flipkart.com/wallmantra-medium-viny...</td>\n      <td>Wallmantra Medium Vinyl Sticker Sticker</td>\n      <td>[\"Baby Care &gt;&gt; Baby &amp; Kids Gifts &gt;&gt; Stickers &gt;...</td>\n      <td>STIEC889ZGFD3RCE</td>\n      <td>3465.0</td>\n      <td>1333.0</td>\n      <td>c3edc504d1b4f0ba6224fa53a43a7ad6.jpg</td>\n      <td>False</td>\n      <td>Buy Wallmantra Medium Vinyl Sticker Sticker fo...</td>\n      <td>No rating available</td>\n      <td>No rating available</td>\n      <td>Wallmantra</td>\n      <td>{\"product_specification\"=&gt;[{\"key\"=&gt;\"Number of ...</td>\n    </tr>\n    <tr>\n      <th>1049</th>\n      <td>f2f027ad6a6df617c9f125173da71e44</td>\n      <td>2015-12-01 10:15:43 +0000</td>\n      <td>http://www.flipkart.com/uberlyfe-large-vinyl-s...</td>\n      <td>Uberlyfe Large Vinyl Sticker</td>\n      <td>[\"Baby Care &gt;&gt; Baby &amp; Kids Gifts &gt;&gt; Stickers &gt;...</td>\n      <td>STIE2ZEPACRQJKH7</td>\n      <td>1190.0</td>\n      <td>595.0</td>\n      <td>f2f027ad6a6df617c9f125173da71e44.jpg</td>\n      <td>False</td>\n      <td>Buy Uberlyfe Large Vinyl Sticker for Rs.595 on...</td>\n      <td>4</td>\n      <td>4</td>\n      <td>Uberlyfe</td>\n      <td>{\"product_specification\"=&gt;[{\"key\"=&gt;\"Sales Pack...</td>\n    </tr>\n  </tbody>\n</table>\n<p>1050 rows × 15 columns</p>\n</div>"
     },
     "execution_count": 19,
     "metadata": {},
     "output_type": "execute_result"
    }
   ],
   "source": [
    "# Importation des données\n",
    "df = pd.read_csv(\"flipkart_com-ecommerce_sample_1050.csv\",sep=\",\")\n",
    "df"
   ],
   "metadata": {
    "collapsed": false
   }
  },
  {
   "cell_type": "code",
   "execution_count": 2,
   "outputs": [
    {
     "data": {
      "text/plain": "(1050, 15)"
     },
     "execution_count": 2,
     "metadata": {},
     "output_type": "execute_result"
    }
   ],
   "source": [
    "df.shape"
   ],
   "metadata": {
    "collapsed": false
   }
  },
  {
   "cell_type": "code",
   "execution_count": 10,
   "outputs": [
    {
     "name": "stdout",
     "output_type": "stream",
     "text": [
      "<class 'pandas.core.frame.DataFrame'>\n",
      "RangeIndex: 1050 entries, 0 to 1049\n",
      "Data columns (total 15 columns):\n",
      " #   Column                   Non-Null Count  Dtype  \n",
      "---  ------                   --------------  -----  \n",
      " 0   uniq_id                  1050 non-null   object \n",
      " 1   crawl_timestamp          1050 non-null   object \n",
      " 2   product_url              1050 non-null   object \n",
      " 3   product_name             1050 non-null   object \n",
      " 4   product_category_tree    1050 non-null   object \n",
      " 5   pid                      1050 non-null   object \n",
      " 6   retail_price             1049 non-null   float64\n",
      " 7   discounted_price         1049 non-null   float64\n",
      " 8   image                    1050 non-null   object \n",
      " 9   is_FK_Advantage_product  1050 non-null   bool   \n",
      " 10  description              1050 non-null   object \n",
      " 11  product_rating           1050 non-null   object \n",
      " 12  overall_rating           1050 non-null   object \n",
      " 13  brand                    712 non-null    object \n",
      " 14  product_specifications   1049 non-null   object \n",
      "dtypes: bool(1), float64(2), object(12)\n",
      "memory usage: 116.0+ KB\n"
     ]
    }
   ],
   "source": [
    "df.info()"
   ],
   "metadata": {
    "collapsed": false
   }
  },
  {
   "cell_type": "markdown",
   "source": [
    "## Catégorie\n",
    "Nous reccupérons le nom de la catégorie, qui se trouve en tête de la colonne product_category_tree"
   ],
   "metadata": {
    "collapsed": false
   }
  },
  {
   "cell_type": "code",
   "execution_count": 22,
   "outputs": [
    {
     "data": {
      "text/plain": "                       0                         1                   2  \\\n0     [\"Home Furnishing    Curtains & Accessories            Curtains    \n1           [\"Baby Care          Baby Bath & Skin    Baby Bath Towels    \n2           [\"Baby Care          Baby Bath & Skin    Baby Bath Towels    \n3     [\"Home Furnishing                 Bed Linen           Bedsheets    \n4     [\"Home Furnishing                 Bed Linen           Bedsheets    \n...                  ...                       ...                 ...   \n1045        [\"Baby Care         Baby & Kids Gifts            Stickers    \n1046        [\"Baby Care         Baby & Kids Gifts            Stickers    \n1047        [\"Baby Care         Baby & Kids Gifts            Stickers    \n1048        [\"Baby Care         Baby & Kids Gifts            Stickers    \n1049        [\"Baby Care         Baby & Kids Gifts            Stickers    \n\n                                                      3  \\\n0      Elegance Polyester Multicolor Abstract Eyelet...   \n1                            Sathiyas Baby Bath Towels    \n2                             Eurospa Baby Bath Towels    \n3                      SANTOSH ROYAL FASHION Bedsheets    \n4                               Jaipur Print Bedsheets    \n...                                                 ...   \n1045                            Oren Empower Stickers\"]   \n1046                              Wallmantra Stickers\"]   \n1047                                Uberlyfe Stickers\"]   \n1048                              Wallmantra Stickers\"]   \n1049                                Uberlyfe Stickers\"]   \n\n                                                      4     5     6  \n0                                                  None  None  None  \n1      Sathiyas Cotton Bath Towel (3 Bath Towel, Red...  None  None  \n2      Eurospa Cotton Terry Face Towel Set (20 PIECE...  None  None  \n3      SANTOSH ROYAL FASHION Cotton Printed King siz...  None  None  \n4      Jaipur Print Cotton Floral King sized Double ...  None  None  \n...                                                 ...   ...   ...  \n1045                                               None  None  None  \n1046                                               None  None  None  \n1047                                               None  None  None  \n1048                                               None  None  None  \n1049                                               None  None  None  \n\n[1050 rows x 7 columns]",
      "text/html": "<div>\n<style scoped>\n    .dataframe tbody tr th:only-of-type {\n        vertical-align: middle;\n    }\n\n    .dataframe tbody tr th {\n        vertical-align: top;\n    }\n\n    .dataframe thead th {\n        text-align: right;\n    }\n</style>\n<table border=\"1\" class=\"dataframe\">\n  <thead>\n    <tr style=\"text-align: right;\">\n      <th></th>\n      <th>0</th>\n      <th>1</th>\n      <th>2</th>\n      <th>3</th>\n      <th>4</th>\n      <th>5</th>\n      <th>6</th>\n    </tr>\n  </thead>\n  <tbody>\n    <tr>\n      <th>0</th>\n      <td>[\"Home Furnishing</td>\n      <td>Curtains &amp; Accessories</td>\n      <td>Curtains</td>\n      <td>Elegance Polyester Multicolor Abstract Eyelet...</td>\n      <td>None</td>\n      <td>None</td>\n      <td>None</td>\n    </tr>\n    <tr>\n      <th>1</th>\n      <td>[\"Baby Care</td>\n      <td>Baby Bath &amp; Skin</td>\n      <td>Baby Bath Towels</td>\n      <td>Sathiyas Baby Bath Towels</td>\n      <td>Sathiyas Cotton Bath Towel (3 Bath Towel, Red...</td>\n      <td>None</td>\n      <td>None</td>\n    </tr>\n    <tr>\n      <th>2</th>\n      <td>[\"Baby Care</td>\n      <td>Baby Bath &amp; Skin</td>\n      <td>Baby Bath Towels</td>\n      <td>Eurospa Baby Bath Towels</td>\n      <td>Eurospa Cotton Terry Face Towel Set (20 PIECE...</td>\n      <td>None</td>\n      <td>None</td>\n    </tr>\n    <tr>\n      <th>3</th>\n      <td>[\"Home Furnishing</td>\n      <td>Bed Linen</td>\n      <td>Bedsheets</td>\n      <td>SANTOSH ROYAL FASHION Bedsheets</td>\n      <td>SANTOSH ROYAL FASHION Cotton Printed King siz...</td>\n      <td>None</td>\n      <td>None</td>\n    </tr>\n    <tr>\n      <th>4</th>\n      <td>[\"Home Furnishing</td>\n      <td>Bed Linen</td>\n      <td>Bedsheets</td>\n      <td>Jaipur Print Bedsheets</td>\n      <td>Jaipur Print Cotton Floral King sized Double ...</td>\n      <td>None</td>\n      <td>None</td>\n    </tr>\n    <tr>\n      <th>...</th>\n      <td>...</td>\n      <td>...</td>\n      <td>...</td>\n      <td>...</td>\n      <td>...</td>\n      <td>...</td>\n      <td>...</td>\n    </tr>\n    <tr>\n      <th>1045</th>\n      <td>[\"Baby Care</td>\n      <td>Baby &amp; Kids Gifts</td>\n      <td>Stickers</td>\n      <td>Oren Empower Stickers\"]</td>\n      <td>None</td>\n      <td>None</td>\n      <td>None</td>\n    </tr>\n    <tr>\n      <th>1046</th>\n      <td>[\"Baby Care</td>\n      <td>Baby &amp; Kids Gifts</td>\n      <td>Stickers</td>\n      <td>Wallmantra Stickers\"]</td>\n      <td>None</td>\n      <td>None</td>\n      <td>None</td>\n    </tr>\n    <tr>\n      <th>1047</th>\n      <td>[\"Baby Care</td>\n      <td>Baby &amp; Kids Gifts</td>\n      <td>Stickers</td>\n      <td>Uberlyfe Stickers\"]</td>\n      <td>None</td>\n      <td>None</td>\n      <td>None</td>\n    </tr>\n    <tr>\n      <th>1048</th>\n      <td>[\"Baby Care</td>\n      <td>Baby &amp; Kids Gifts</td>\n      <td>Stickers</td>\n      <td>Wallmantra Stickers\"]</td>\n      <td>None</td>\n      <td>None</td>\n      <td>None</td>\n    </tr>\n    <tr>\n      <th>1049</th>\n      <td>[\"Baby Care</td>\n      <td>Baby &amp; Kids Gifts</td>\n      <td>Stickers</td>\n      <td>Uberlyfe Stickers\"]</td>\n      <td>None</td>\n      <td>None</td>\n      <td>None</td>\n    </tr>\n  </tbody>\n</table>\n<p>1050 rows × 7 columns</p>\n</div>"
     },
     "execution_count": 22,
     "metadata": {},
     "output_type": "execute_result"
    }
   ],
   "source": [
    "df_categ= df[\"product_category_tree\"].str.split(pat=\">>\", expand=True)\n",
    "df_categ"
   ],
   "metadata": {
    "collapsed": false
   }
  },
  {
   "cell_type": "code",
   "execution_count": 29,
   "outputs": [
    {
     "data": {
      "text/plain": "               categorie                        x2                  x3  \\\n0     [\"Home Furnishing    Curtains & Accessories            Curtains    \n1           [\"Baby Care          Baby Bath & Skin    Baby Bath Towels    \n2           [\"Baby Care          Baby Bath & Skin    Baby Bath Towels    \n3     [\"Home Furnishing                 Bed Linen           Bedsheets    \n4     [\"Home Furnishing                 Bed Linen           Bedsheets    \n...                  ...                       ...                 ...   \n1045        [\"Baby Care         Baby & Kids Gifts            Stickers    \n1046        [\"Baby Care         Baby & Kids Gifts            Stickers    \n1047        [\"Baby Care         Baby & Kids Gifts            Stickers    \n1048        [\"Baby Care         Baby & Kids Gifts            Stickers    \n1049        [\"Baby Care         Baby & Kids Gifts            Stickers    \n\n                                                     x4  \\\n0      Elegance Polyester Multicolor Abstract Eyelet...   \n1                            Sathiyas Baby Bath Towels    \n2                             Eurospa Baby Bath Towels    \n3                      SANTOSH ROYAL FASHION Bedsheets    \n4                               Jaipur Print Bedsheets    \n...                                                 ...   \n1045                            Oren Empower Stickers\"]   \n1046                              Wallmantra Stickers\"]   \n1047                                Uberlyfe Stickers\"]   \n1048                              Wallmantra Stickers\"]   \n1049                                Uberlyfe Stickers\"]   \n\n                                                     x5    x6    x7  \n0                                                  None  None  None  \n1      Sathiyas Cotton Bath Towel (3 Bath Towel, Red...  None  None  \n2      Eurospa Cotton Terry Face Towel Set (20 PIECE...  None  None  \n3      SANTOSH ROYAL FASHION Cotton Printed King siz...  None  None  \n4      Jaipur Print Cotton Floral King sized Double ...  None  None  \n...                                                 ...   ...   ...  \n1045                                               None  None  None  \n1046                                               None  None  None  \n1047                                               None  None  None  \n1048                                               None  None  None  \n1049                                               None  None  None  \n\n[1050 rows x 7 columns]",
      "text/html": "<div>\n<style scoped>\n    .dataframe tbody tr th:only-of-type {\n        vertical-align: middle;\n    }\n\n    .dataframe tbody tr th {\n        vertical-align: top;\n    }\n\n    .dataframe thead th {\n        text-align: right;\n    }\n</style>\n<table border=\"1\" class=\"dataframe\">\n  <thead>\n    <tr style=\"text-align: right;\">\n      <th></th>\n      <th>categorie</th>\n      <th>x2</th>\n      <th>x3</th>\n      <th>x4</th>\n      <th>x5</th>\n      <th>x6</th>\n      <th>x7</th>\n    </tr>\n  </thead>\n  <tbody>\n    <tr>\n      <th>0</th>\n      <td>[\"Home Furnishing</td>\n      <td>Curtains &amp; Accessories</td>\n      <td>Curtains</td>\n      <td>Elegance Polyester Multicolor Abstract Eyelet...</td>\n      <td>None</td>\n      <td>None</td>\n      <td>None</td>\n    </tr>\n    <tr>\n      <th>1</th>\n      <td>[\"Baby Care</td>\n      <td>Baby Bath &amp; Skin</td>\n      <td>Baby Bath Towels</td>\n      <td>Sathiyas Baby Bath Towels</td>\n      <td>Sathiyas Cotton Bath Towel (3 Bath Towel, Red...</td>\n      <td>None</td>\n      <td>None</td>\n    </tr>\n    <tr>\n      <th>2</th>\n      <td>[\"Baby Care</td>\n      <td>Baby Bath &amp; Skin</td>\n      <td>Baby Bath Towels</td>\n      <td>Eurospa Baby Bath Towels</td>\n      <td>Eurospa Cotton Terry Face Towel Set (20 PIECE...</td>\n      <td>None</td>\n      <td>None</td>\n    </tr>\n    <tr>\n      <th>3</th>\n      <td>[\"Home Furnishing</td>\n      <td>Bed Linen</td>\n      <td>Bedsheets</td>\n      <td>SANTOSH ROYAL FASHION Bedsheets</td>\n      <td>SANTOSH ROYAL FASHION Cotton Printed King siz...</td>\n      <td>None</td>\n      <td>None</td>\n    </tr>\n    <tr>\n      <th>4</th>\n      <td>[\"Home Furnishing</td>\n      <td>Bed Linen</td>\n      <td>Bedsheets</td>\n      <td>Jaipur Print Bedsheets</td>\n      <td>Jaipur Print Cotton Floral King sized Double ...</td>\n      <td>None</td>\n      <td>None</td>\n    </tr>\n    <tr>\n      <th>...</th>\n      <td>...</td>\n      <td>...</td>\n      <td>...</td>\n      <td>...</td>\n      <td>...</td>\n      <td>...</td>\n      <td>...</td>\n    </tr>\n    <tr>\n      <th>1045</th>\n      <td>[\"Baby Care</td>\n      <td>Baby &amp; Kids Gifts</td>\n      <td>Stickers</td>\n      <td>Oren Empower Stickers\"]</td>\n      <td>None</td>\n      <td>None</td>\n      <td>None</td>\n    </tr>\n    <tr>\n      <th>1046</th>\n      <td>[\"Baby Care</td>\n      <td>Baby &amp; Kids Gifts</td>\n      <td>Stickers</td>\n      <td>Wallmantra Stickers\"]</td>\n      <td>None</td>\n      <td>None</td>\n      <td>None</td>\n    </tr>\n    <tr>\n      <th>1047</th>\n      <td>[\"Baby Care</td>\n      <td>Baby &amp; Kids Gifts</td>\n      <td>Stickers</td>\n      <td>Uberlyfe Stickers\"]</td>\n      <td>None</td>\n      <td>None</td>\n      <td>None</td>\n    </tr>\n    <tr>\n      <th>1048</th>\n      <td>[\"Baby Care</td>\n      <td>Baby &amp; Kids Gifts</td>\n      <td>Stickers</td>\n      <td>Wallmantra Stickers\"]</td>\n      <td>None</td>\n      <td>None</td>\n      <td>None</td>\n    </tr>\n    <tr>\n      <th>1049</th>\n      <td>[\"Baby Care</td>\n      <td>Baby &amp; Kids Gifts</td>\n      <td>Stickers</td>\n      <td>Uberlyfe Stickers\"]</td>\n      <td>None</td>\n      <td>None</td>\n      <td>None</td>\n    </tr>\n  </tbody>\n</table>\n<p>1050 rows × 7 columns</p>\n</div>"
     },
     "execution_count": 29,
     "metadata": {},
     "output_type": "execute_result"
    }
   ],
   "source": [
    "df_categ = pd.DataFrame(data=df_categ.values,\n",
    "                        columns=[\"categorie\",\"x2\",\"x3\",\"x4\",\"x5\",\"x6\",\"x7\"])\n",
    "df_categ = df_categ['categorie']\n"
   ],
   "metadata": {
    "collapsed": false
   }
  },
  {
   "cell_type": "markdown",
   "source": [
    "## Fusion des colonnes product_name et description\n",
    "Cette colonne servira de base pour l'analyse textuelle"
   ],
   "metadata": {
    "collapsed": false
   }
  },
  {
   "cell_type": "code",
   "execution_count": null,
   "outputs": [],
   "source": [],
   "metadata": {
    "collapsed": false
   }
  },
  {
   "cell_type": "code",
   "execution_count": 32,
   "outputs": [
    {
     "data": {
      "text/plain": "                               uniq_id  \\\n0     55b85ea15a1536d46b7190ad6fff8ce7   \n1     7b72c92c2f6c40268628ec5f14c6d590   \n2     64d5d4a258243731dc7bbb1eef49ad74   \n3     d4684dcdc759dd9cdf41504698d737d8   \n4     6325b6870c54cd47be6ebfbffa620ec7   \n...                                ...   \n1045  958f54f4c46b53c8a0a9b8167d9140bc   \n1046  fd6cbcc22efb6b761bd564c28928483c   \n1047  5912e037d12774bb73a2048f35a00009   \n1048  c3edc504d1b4f0ba6224fa53a43a7ad6   \n1049  f2f027ad6a6df617c9f125173da71e44   \n\n                                           product_name  \\\n0     Elegance Polyester Multicolor Abstract Eyelet ...   \n1                            Sathiyas Cotton Bath Towel   \n2                   Eurospa Cotton Terry Face Towel Set   \n3     SANTOSH ROYAL FASHION Cotton Printed King size...   \n4     Jaipur Print Cotton Floral King sized Double B...   \n...                                                 ...   \n1045     Oren Empower Extra Large Self Adhesive Sticker   \n1046             Wallmantra Large Vinyl Sticker Sticker   \n1047  Uberlyfe Extra Large Pigmented Polyvinyl Films...   \n1048            Wallmantra Medium Vinyl Sticker Sticker   \n1049                       Uberlyfe Large Vinyl Sticker   \n\n                                            description  \n0     Key Features of Elegance Polyester Multicolor ...  \n1     Specifications of Sathiyas Cotton Bath Towel (...  \n2     Key Features of Eurospa Cotton Terry Face Towe...  \n3     Key Features of SANTOSH ROYAL FASHION Cotton P...  \n4     Key Features of Jaipur Print Cotton Floral Kin...  \n...                                                 ...  \n1045  Oren Empower Extra Large Self Adhesive Sticker...  \n1046  Wallmantra Large Vinyl Sticker Sticker (Pack o...  \n1047  Buy Uberlyfe Extra Large Pigmented Polyvinyl F...  \n1048  Buy Wallmantra Medium Vinyl Sticker Sticker fo...  \n1049  Buy Uberlyfe Large Vinyl Sticker for Rs.595 on...  \n\n[1050 rows x 3 columns]",
      "text/html": "<div>\n<style scoped>\n    .dataframe tbody tr th:only-of-type {\n        vertical-align: middle;\n    }\n\n    .dataframe tbody tr th {\n        vertical-align: top;\n    }\n\n    .dataframe thead th {\n        text-align: right;\n    }\n</style>\n<table border=\"1\" class=\"dataframe\">\n  <thead>\n    <tr style=\"text-align: right;\">\n      <th></th>\n      <th>uniq_id</th>\n      <th>product_name</th>\n      <th>description</th>\n    </tr>\n  </thead>\n  <tbody>\n    <tr>\n      <th>0</th>\n      <td>55b85ea15a1536d46b7190ad6fff8ce7</td>\n      <td>Elegance Polyester Multicolor Abstract Eyelet ...</td>\n      <td>Key Features of Elegance Polyester Multicolor ...</td>\n    </tr>\n    <tr>\n      <th>1</th>\n      <td>7b72c92c2f6c40268628ec5f14c6d590</td>\n      <td>Sathiyas Cotton Bath Towel</td>\n      <td>Specifications of Sathiyas Cotton Bath Towel (...</td>\n    </tr>\n    <tr>\n      <th>2</th>\n      <td>64d5d4a258243731dc7bbb1eef49ad74</td>\n      <td>Eurospa Cotton Terry Face Towel Set</td>\n      <td>Key Features of Eurospa Cotton Terry Face Towe...</td>\n    </tr>\n    <tr>\n      <th>3</th>\n      <td>d4684dcdc759dd9cdf41504698d737d8</td>\n      <td>SANTOSH ROYAL FASHION Cotton Printed King size...</td>\n      <td>Key Features of SANTOSH ROYAL FASHION Cotton P...</td>\n    </tr>\n    <tr>\n      <th>4</th>\n      <td>6325b6870c54cd47be6ebfbffa620ec7</td>\n      <td>Jaipur Print Cotton Floral King sized Double B...</td>\n      <td>Key Features of Jaipur Print Cotton Floral Kin...</td>\n    </tr>\n    <tr>\n      <th>...</th>\n      <td>...</td>\n      <td>...</td>\n      <td>...</td>\n    </tr>\n    <tr>\n      <th>1045</th>\n      <td>958f54f4c46b53c8a0a9b8167d9140bc</td>\n      <td>Oren Empower Extra Large Self Adhesive Sticker</td>\n      <td>Oren Empower Extra Large Self Adhesive Sticker...</td>\n    </tr>\n    <tr>\n      <th>1046</th>\n      <td>fd6cbcc22efb6b761bd564c28928483c</td>\n      <td>Wallmantra Large Vinyl Sticker Sticker</td>\n      <td>Wallmantra Large Vinyl Sticker Sticker (Pack o...</td>\n    </tr>\n    <tr>\n      <th>1047</th>\n      <td>5912e037d12774bb73a2048f35a00009</td>\n      <td>Uberlyfe Extra Large Pigmented Polyvinyl Films...</td>\n      <td>Buy Uberlyfe Extra Large Pigmented Polyvinyl F...</td>\n    </tr>\n    <tr>\n      <th>1048</th>\n      <td>c3edc504d1b4f0ba6224fa53a43a7ad6</td>\n      <td>Wallmantra Medium Vinyl Sticker Sticker</td>\n      <td>Buy Wallmantra Medium Vinyl Sticker Sticker fo...</td>\n    </tr>\n    <tr>\n      <th>1049</th>\n      <td>f2f027ad6a6df617c9f125173da71e44</td>\n      <td>Uberlyfe Large Vinyl Sticker</td>\n      <td>Buy Uberlyfe Large Vinyl Sticker for Rs.595 on...</td>\n    </tr>\n  </tbody>\n</table>\n<p>1050 rows × 3 columns</p>\n</div>"
     },
     "execution_count": 32,
     "metadata": {},
     "output_type": "execute_result"
    }
   ],
   "source": [
    "df_com = df[[\"uniq_id\", \"product_name\",\"description\"]]\n",
    "df_com"
   ],
   "metadata": {
    "collapsed": false
   }
  },
  {
   "cell_type": "code",
   "execution_count": 35,
   "outputs": [
    {
     "name": "stderr",
     "output_type": "stream",
     "text": [
      "C:\\Users\\fbbou\\AppData\\Local\\Temp\\ipykernel_15696\\4264177388.py:1: SettingWithCopyWarning: \n",
      "A value is trying to be set on a copy of a slice from a DataFrame.\n",
      "Try using .loc[row_indexer,col_indexer] = value instead\n",
      "\n",
      "See the caveats in the documentation: https://pandas.pydata.org/pandas-docs/stable/user_guide/indexing.html#returning-a-view-versus-a-copy\n",
      "  df_com[\"description\"]=df_com[\"product_name\"]+ \" \" + df_com[\"description\"]\n"
     ]
    },
    {
     "data": {
      "text/plain": "                               uniq_id  \\\n0     55b85ea15a1536d46b7190ad6fff8ce7   \n1     7b72c92c2f6c40268628ec5f14c6d590   \n2     64d5d4a258243731dc7bbb1eef49ad74   \n3     d4684dcdc759dd9cdf41504698d737d8   \n4     6325b6870c54cd47be6ebfbffa620ec7   \n...                                ...   \n1045  958f54f4c46b53c8a0a9b8167d9140bc   \n1046  fd6cbcc22efb6b761bd564c28928483c   \n1047  5912e037d12774bb73a2048f35a00009   \n1048  c3edc504d1b4f0ba6224fa53a43a7ad6   \n1049  f2f027ad6a6df617c9f125173da71e44   \n\n                                            description  \n0     Elegance Polyester Multicolor Abstract Eyelet ...  \n1     Sathiyas Cotton Bath Towel Sathiyas Cotton Bat...  \n2     Eurospa Cotton Terry Face Towel Set Eurospa Co...  \n3     SANTOSH ROYAL FASHION Cotton Printed King size...  \n4     Jaipur Print Cotton Floral King sized Double B...  \n...                                                 ...  \n1045  Oren Empower Extra Large Self Adhesive Sticker...  \n1046  Wallmantra Large Vinyl Sticker Sticker Wallman...  \n1047  Uberlyfe Extra Large Pigmented Polyvinyl Films...  \n1048  Wallmantra Medium Vinyl Sticker Sticker Wallma...  \n1049  Uberlyfe Large Vinyl Sticker Uberlyfe Large Vi...  \n\n[1050 rows x 2 columns]",
      "text/html": "<div>\n<style scoped>\n    .dataframe tbody tr th:only-of-type {\n        vertical-align: middle;\n    }\n\n    .dataframe tbody tr th {\n        vertical-align: top;\n    }\n\n    .dataframe thead th {\n        text-align: right;\n    }\n</style>\n<table border=\"1\" class=\"dataframe\">\n  <thead>\n    <tr style=\"text-align: right;\">\n      <th></th>\n      <th>uniq_id</th>\n      <th>description</th>\n    </tr>\n  </thead>\n  <tbody>\n    <tr>\n      <th>0</th>\n      <td>55b85ea15a1536d46b7190ad6fff8ce7</td>\n      <td>Elegance Polyester Multicolor Abstract Eyelet ...</td>\n    </tr>\n    <tr>\n      <th>1</th>\n      <td>7b72c92c2f6c40268628ec5f14c6d590</td>\n      <td>Sathiyas Cotton Bath Towel Sathiyas Cotton Bat...</td>\n    </tr>\n    <tr>\n      <th>2</th>\n      <td>64d5d4a258243731dc7bbb1eef49ad74</td>\n      <td>Eurospa Cotton Terry Face Towel Set Eurospa Co...</td>\n    </tr>\n    <tr>\n      <th>3</th>\n      <td>d4684dcdc759dd9cdf41504698d737d8</td>\n      <td>SANTOSH ROYAL FASHION Cotton Printed King size...</td>\n    </tr>\n    <tr>\n      <th>4</th>\n      <td>6325b6870c54cd47be6ebfbffa620ec7</td>\n      <td>Jaipur Print Cotton Floral King sized Double B...</td>\n    </tr>\n    <tr>\n      <th>...</th>\n      <td>...</td>\n      <td>...</td>\n    </tr>\n    <tr>\n      <th>1045</th>\n      <td>958f54f4c46b53c8a0a9b8167d9140bc</td>\n      <td>Oren Empower Extra Large Self Adhesive Sticker...</td>\n    </tr>\n    <tr>\n      <th>1046</th>\n      <td>fd6cbcc22efb6b761bd564c28928483c</td>\n      <td>Wallmantra Large Vinyl Sticker Sticker Wallman...</td>\n    </tr>\n    <tr>\n      <th>1047</th>\n      <td>5912e037d12774bb73a2048f35a00009</td>\n      <td>Uberlyfe Extra Large Pigmented Polyvinyl Films...</td>\n    </tr>\n    <tr>\n      <th>1048</th>\n      <td>c3edc504d1b4f0ba6224fa53a43a7ad6</td>\n      <td>Wallmantra Medium Vinyl Sticker Sticker Wallma...</td>\n    </tr>\n    <tr>\n      <th>1049</th>\n      <td>f2f027ad6a6df617c9f125173da71e44</td>\n      <td>Uberlyfe Large Vinyl Sticker Uberlyfe Large Vi...</td>\n    </tr>\n  </tbody>\n</table>\n<p>1050 rows × 2 columns</p>\n</div>"
     },
     "execution_count": 35,
     "metadata": {},
     "output_type": "execute_result"
    }
   ],
   "source": [
    "df_com[\"description\"]=df_com[\"product_name\"]+ \" \" + df_com[\"description\"]\n",
    "df_com = df_com[[\"uniq_id\", \"description\"]]\n",
    "df_com"
   ],
   "metadata": {
    "collapsed": false
   }
  },
  {
   "cell_type": "markdown",
   "source": [
    "## Traitements du text\n",
    "Nous construisons notre **fonction de preprocessing** qui va successivement :\n",
    "- enlever la **ponctuation**\n",
    "- enlever les **chiffres**\n",
    "- transformer les phrases en **liste de tokens** (en liste de mots)\n",
    "- enlever les **stopwords** (mots n'apportant pas de sens)\n",
    "- **lemmatizer**\n",
    "- enlever les **majuscules**\n",
    "- **reformer les phrases** avec les mots restants"
   ],
   "metadata": {
    "collapsed": false
   }
  },
  {
   "cell_type": "code",
   "execution_count": null,
   "outputs": [],
   "source": [],
   "metadata": {
    "collapsed": false
   }
  },
  {
   "cell_type": "code",
   "execution_count": null,
   "outputs": [],
   "source": [],
   "metadata": {
    "collapsed": false
   }
  },
  {
   "cell_type": "code",
   "execution_count": null,
   "outputs": [],
   "source": [],
   "metadata": {
    "collapsed": false
   }
  },
  {
   "cell_type": "code",
   "execution_count": 43,
   "outputs": [
    {
     "ename": "NameError",
     "evalue": "name 'lm' is not defined",
     "output_type": "error",
     "traceback": [
      "\u001B[1;31m---------------------------------------------------------------------------\u001B[0m",
      "\u001B[1;31mNameError\u001B[0m                                 Traceback (most recent call last)",
      "Cell \u001B[1;32mIn[43], line 3\u001B[0m\n\u001B[0;32m      1\u001B[0m french_stopwords \u001B[38;5;241m=\u001B[39m nltk\u001B[38;5;241m.\u001B[39mcorpus\u001B[38;5;241m.\u001B[39mstopwords\u001B[38;5;241m.\u001B[39mwords(\u001B[38;5;124m'\u001B[39m\u001B[38;5;124mfrench\u001B[39m\u001B[38;5;124m'\u001B[39m)\n\u001B[0;32m      2\u001B[0m mots \u001B[38;5;241m=\u001B[39m \u001B[38;5;28mset\u001B[39m(line\u001B[38;5;241m.\u001B[39mstrip() \u001B[38;5;28;01mfor\u001B[39;00m line \u001B[38;5;129;01min\u001B[39;00m \u001B[38;5;28mopen\u001B[39m(\u001B[38;5;124m'\u001B[39m\u001B[38;5;124mdictionnaire.txt\u001B[39m\u001B[38;5;124m'\u001B[39m, encoding\u001B[38;5;241m=\u001B[39m\u001B[38;5;124m\"\u001B[39m\u001B[38;5;124mutf-8\u001B[39m\u001B[38;5;124m\"\u001B[39m))\n\u001B[1;32m----> 3\u001B[0m lemmatizer \u001B[38;5;241m=\u001B[39m \u001B[43mlm\u001B[49m()\n",
      "\u001B[1;31mNameError\u001B[0m: name 'lm' is not defined"
     ]
    }
   ],
   "source": [
    "french_stopwords = nltk.corpus.stopwords.words('french')\n",
    "mots = set(line.strip() for line in open('dictionnaire.txt', encoding=\"utf-8\"))\n",
    "lemmatizer = lm()"
   ],
   "metadata": {
    "collapsed": false
   }
  },
  {
   "cell_type": "code",
   "execution_count": null,
   "outputs": [],
   "source": [],
   "metadata": {
    "collapsed": false
   }
  },
  {
   "cell_type": "code",
   "execution_count": null,
   "outputs": [],
   "source": [],
   "metadata": {
    "collapsed": false
   }
  },
  {
   "cell_type": "code",
   "execution_count": null,
   "outputs": [],
   "source": [],
   "metadata": {
    "collapsed": false
   }
  },
  {
   "cell_type": "code",
   "execution_count": null,
   "outputs": [],
   "source": [],
   "metadata": {
    "collapsed": false
   }
  },
  {
   "cell_type": "code",
   "execution_count": null,
   "outputs": [],
   "source": [],
   "metadata": {
    "collapsed": false
   }
  },
  {
   "cell_type": "code",
   "execution_count": null,
   "outputs": [],
   "source": [],
   "metadata": {
    "collapsed": false
   }
  },
  {
   "cell_type": "code",
   "execution_count": null,
   "outputs": [],
   "source": [],
   "metadata": {
    "collapsed": false
   }
  },
  {
   "cell_type": "code",
   "execution_count": null,
   "outputs": [],
   "source": [],
   "metadata": {
    "collapsed": false
   }
  },
  {
   "cell_type": "code",
   "execution_count": null,
   "outputs": [],
   "source": [],
   "metadata": {
    "collapsed": false
   }
  },
  {
   "cell_type": "code",
   "execution_count": null,
   "outputs": [],
   "source": [],
   "metadata": {
    "collapsed": false
   }
  },
  {
   "cell_type": "code",
   "execution_count": null,
   "outputs": [],
   "source": [],
   "metadata": {
    "collapsed": false
   }
  },
  {
   "cell_type": "code",
   "execution_count": null,
   "outputs": [],
   "source": [],
   "metadata": {
    "collapsed": false
   }
  },
  {
   "cell_type": "code",
   "execution_count": null,
   "outputs": [],
   "source": [],
   "metadata": {
    "collapsed": false
   }
  }
 ],
 "metadata": {
  "kernelspec": {
   "display_name": "Python 3",
   "language": "python",
   "name": "python3"
  },
  "language_info": {
   "codemirror_mode": {
    "name": "ipython",
    "version": 2
   },
   "file_extension": ".py",
   "mimetype": "text/x-python",
   "name": "python",
   "nbconvert_exporter": "python",
   "pygments_lexer": "ipython2",
   "version": "2.7.6"
  }
 },
 "nbformat": 4,
 "nbformat_minor": 0
}
